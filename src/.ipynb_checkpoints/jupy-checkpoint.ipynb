{
 "cells": [
  {
   "cell_type": "code",
   "execution_count": 1,
   "id": "5fa9ebbe",
   "metadata": {},
   "outputs": [],
   "source": [
    "import rospy\n",
    "import actionlib\n",
    "import threading\n",
    "from IPython.display import display, clear_output\n",
    "import ipywidgets as widgets\n",
    "from geometry_msgs.msg import Point\n",
    "from nav_msgs.msg import Odometry\n",
    "from assignment2_part1.msg import posit, PlanningAction, PlanningGoal\n",
    "from sensor_msgs.msg import LaserScan"
   ]
  },
  {
   "cell_type": "code",
   "execution_count": 2,
   "id": "7bf32b28",
   "metadata": {},
   "outputs": [
    {
     "data": {
      "application/vnd.jupyter.widget-view+json": {
       "model_id": "2f451ccb9c0b40e0a95fc20a2774481c",
       "version_major": 2,
       "version_minor": 0
      },
      "text/plain": [
       "VBox(children=(FloatSlider(value=0.0, description='X:', max=9.0, min=-9.0, step=0.5), FloatSlider(value=0.0, d…"
      ]
     },
     "metadata": {},
     "output_type": "display_data"
    },
    {
     "name": "stdout",
     "output_type": "stream",
     "text": [
      "Sending goal to (2.0, -2.5)\n",
      "Target reached!\n",
      "Sending goal to (4.5, -2.5)\n",
      "Cancelling goal...\n",
      "Goal cancelled!\n"
     ]
    }
   ],
   "source": [
    "client = None\n",
    "odom_sub = None\n",
    "pos_vel_pub = None\n",
    "current_position = {'x': 0.0, 'y': 0.0}\n",
    "distance_to_obstacle = 0.0 \n",
    "regions_ = None\n",
    "\n",
    "x_slider = widgets.FloatSlider(value=0, min=-9, max=9, step=0.5, description='X:')\n",
    "y_slider = widgets.FloatSlider(value=0, min=-9, max=9, step=0.5, description='Y:')\n",
    "send_button = widgets.Button(description='Send Goal', button_style='success')\n",
    "cancel_button = widgets.Button(description='Cancel Goal', button_style='danger')\n",
    "position_label = widgets.Label(value=\"Robot Position: (0.0, 0.0)\")\n",
    "obstacle_label = widgets.Label(value=\"Distance to nearest obstacle: N/A\")\n",
    "\n",
    "ui = widgets.VBox([\n",
    "    x_slider,\n",
    "    y_slider,\n",
    "    widgets.HBox([send_button, cancel_button]),\n",
    "    position_label,\n",
    "    obstacle_label\n",
    "])\n",
    "\n",
    "display(ui)\n",
    "\n",
    "# --- Callbacks and Functions ---\n",
    "\n",
    "def clbk_odom(msg):\n",
    "    global current_position, pos_vel_pub\n",
    "    current_position['x'] = msg.pose.pose.position.x\n",
    "    current_position['y'] = msg.pose.pose.position.y\n",
    "\n",
    "    # Publish custom posit message\n",
    "    new_info = posit()\n",
    "    new_info.x = current_position['x']\n",
    "    new_info.y = current_position['y']\n",
    "    new_info.vel_x = msg.twist.twist.linear.x\n",
    "    new_info.vel_z = msg.twist.twist.angular.z\n",
    "    pos_vel_pub.publish(new_info)\n",
    "\n",
    "    # Update the UI\n",
    "    position_label.value = f\"Robot Position: ({new_info.x:.2f}, {new_info.y:.2f})\"\n",
    "\n",
    "def feedback_cb(feedback):\n",
    "    if feedback.stat == \"Target reached!\":\n",
    "        print(\"Target reached!\")\n",
    "    elif feedback.stat == \"Target cancelled!\":\n",
    "        print(\"Goal cancelled!\")\n",
    "\n",
    "def send_goal_callback(b):\n",
    "    goal = PlanningGoal()\n",
    "    goal.target_pose.pose.position.x = x_slider.value\n",
    "    goal.target_pose.pose.position.y = y_slider.value\n",
    "    print(f\"Sending goal to ({goal.target_pose.pose.position.x}, {goal.target_pose.pose.position.y})\")\n",
    "    client.send_goal(goal, feedback_cb=feedback_cb)\n",
    "\n",
    "def cancel_goal_callback(b):\n",
    "    print(\"Cancelling goal...\")\n",
    "    client.cancel_goal()\n",
    "    \n",
    "def clbk_laser(msg):\n",
    "    global regions_\n",
    "    regions_ = {\n",
    "        'right':  min(min(msg.ranges[0:143]), 10),\n",
    "        'fright': min(min(msg.ranges[144:287]), 10),\n",
    "        'front':  min(min(msg.ranges[288:431]), 10),\n",
    "        'fleft':  min(min(msg.ranges[432:575]), 10),\n",
    "        'left':   min(min(msg.ranges[576:719]), 10),\n",
    "    }\n",
    "    min_dist, min_dist_dir = get_min_laser(regions_)\n",
    "    obstacle_label.value = f\"Distance to nearest obstacle is {min_dist:.2f} at {min_dist_dir}\"\n",
    "\n",
    "def argmin(lst):\n",
    "    if not lst:\n",
    "        return None, None\n",
    "    min_index = 0\n",
    "    min_value = lst[0]\n",
    "    for i in range(1, len(lst)):\n",
    "        if lst[i] < min_value:\n",
    "            min_value = lst[i]\n",
    "            min_index = i\n",
    "    return min_index, min_value\n",
    "\n",
    "def get_min_laser(laserdict):\n",
    "    min_index, min_value = argmin(list(laserdict.values()))\n",
    "    return min_value, list(laserdict.keys())[min_index]\n",
    "\n",
    "\n",
    "send_button.on_click(send_goal_callback)\n",
    "cancel_button.on_click(cancel_goal_callback)"
   ]
  },
  {
   "cell_type": "code",
   "execution_count": 3,
   "id": "ff04ee84",
   "metadata": {},
   "outputs": [
    {
     "name": "stdout",
     "output_type": "stream",
     "text": [
      "⏳ Waiting for action server...\n",
      "✅ Connected to action server!\n"
     ]
    }
   ],
   "source": [
    "global client, odom_sub, pos_vel_pub\n",
    "\n",
    "rospy.init_node('action_client', anonymous=True)\n",
    "client = actionlib.SimpleActionClient('/reaching_goal', PlanningAction)\n",
    "print(\"⏳ Waiting for action server...\")\n",
    "client.wait_for_server()\n",
    "print(\"✅ Connected to action server!\")\n",
    "\n",
    "odom_sub = rospy.Subscriber('/odom', Odometry, clbk_odom)\n",
    "pos_vel_pub = rospy.Publisher('/robot_pos_vel', posit, queue_size=10)\n",
    "sub_laser = rospy.Subscriber('/scan', LaserScan, clbk_laser)"
   ]
  }
 ],
 "metadata": {
  "kernelspec": {
   "display_name": "Python 3 (ipykernel)",
   "language": "python",
   "name": "python3"
  },
  "language_info": {
   "codemirror_mode": {
    "name": "ipython",
    "version": 3
   },
   "file_extension": ".py",
   "mimetype": "text/x-python",
   "name": "python",
   "nbconvert_exporter": "python",
   "pygments_lexer": "ipython3",
   "version": "3.8.5"
  }
 },
 "nbformat": 4,
 "nbformat_minor": 5
}
