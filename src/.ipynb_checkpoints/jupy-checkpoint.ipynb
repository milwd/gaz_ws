{
 "cells": [
  {
   "cell_type": "markdown",
   "id": "9c01a092",
   "metadata": {},
   "source": [
    "# Welcome to the Bug-0 Algorithm and Wall-Following Behavior in Gazebo!\n",
    "This project demonstrates a robot navigating in a Gazebo environment using the Bug-0 algorithm and a wall-following behavior. The navigation leverages an Action Server for non-blocking communication, allowing the user to cancel the robot's goal anytime. The project also provides the robot's previous goal destination through a service.\n",
    "\n",
    "The Bug-0 algorithm is a simple and effective approach for robot navigation in unknown environments. It allows the robot to follow walls while avoiding obstacles, making it suitable for various applications. The wall-following behavior ensures that the robot can navigate around obstacles while maintaining a safe distance from them.\n",
    "\n",
    "- The project is designed to be user-friendly, with an interface that allows users to assign or cancel goals for the robot easily. Additionally, the robot provides real-time information about the distance from the closest obstacle, ensuring safe navigation.\n",
    "- The project also includes visualizations, such as a plot showing the robot's position and another plot displaying the number of reached and not-reached targets. These visualizations help users understand the robot's performance and navigation behavior in the Gazebo environment."
   ]
  },
  {
   "cell_type": "markdown",
   "id": "32888afa",
   "metadata": {},
   "source": [
    "## Prerequisites\n",
    "- ROS (Robot Operating System) installed on your system.\n",
    "- Gazebo installed and configured for your ROS environment.\n",
    "- Python 3.x installed.\n",
    "- Required ROS packages for navigation and visualization.\n",
    "- The `rospy` and `actionlib` packages for ROS communication.\n",
    "- The `matplotlib` package for plotting and visualizing the robot's performance.\n",
    "- The `numpy` package for numerical operations and data handling.\n",
    "- The `geometry_msgs` package for handling geometric messages, such as points and poses.\n",
    "- The `nav_msgs` package for handling navigation messages, such as odometry and path planning.\n",
    "- The `std_msgs` package for handling standard messages in ROS.\n",
    "- The `tf` package for handling transformations between coordinate frames.\n",
    "- The `gazebo_ros` package for integrating Gazebo with ROS.\n",
    "- The `sensor_msgs` package for handling sensor data, such as laser scans and camera images.\n",
    "- The `actionlib_msgs` package for handling action messages in ROS.\n",
    "- The `visualization_msgs` package for handling visualization messages in ROS.\n",
    "- The `rostopic` command-line tool for interacting with ROS topics.\n",
    "- The `rosservice` command-line tool for interacting with ROS services.\n",
    "- The `roslaunch` command-line tool for launching ROS nodes and configurations.\n",
    "\n",
    "## Important Notes\n",
    "- The project is designed to be run in a ROS workspace, and the necessary packages should be sourced before running the code.\n",
    "- Ensure that the Gazebo environment is properly set up and running before executing the robot's navigation code."
   ]
  },
  {
   "cell_type": "markdown",
   "id": "1c419eba",
   "metadata": {},
   "source": [
    "### Section 1: Importing Required Libraries"
   ]
  },
  {
   "cell_type": "code",
   "execution_count": 1,
   "id": "a6065e84",
   "metadata": {},
   "outputs": [],
   "source": [
    "import rospy\n",
    "import actionlib\n",
    "import threading\n",
    "from IPython.display import display, clear_output\n",
    "import ipywidgets as widgets\n",
    "from geometry_msgs.msg import Point\n",
    "from nav_msgs.msg import Odometry\n",
    "from assignment2_part1.msg import posit, PlanningAction, PlanningGoal\n",
    "from sensor_msgs.msg import LaserScan\n",
    "import matplotlib.pyplot as plt\n",
    "from matplotlib.animation import FuncAnimation\n",
    "import time\n",
    "%matplotlib widget"
   ]
  },
  {
   "cell_type": "markdown",
   "id": "753b7c18",
   "metadata": {},
   "source": [
    "### Section 2: Setting Up ROS Action Client and Subscriptions  \n",
    "This section initializes the ROS node and sets up the action client for sending goals to the robot. It also subscribes to the odometry and laser scan topics to monitor the robot's position and detect obstacles. Additionally, it publishes custom messages containing the robot's position and velocity. Interactive widgets are created for sending and canceling goals, and the robot's position and obstacle distance are displayed in real-time."
   ]
  },
  {
   "cell_type": "code",
   "execution_count": 2,
   "id": "28d0fa67",
   "metadata": {},
   "outputs": [
    {
     "name": "stdout",
     "output_type": "stream",
     "text": [
      "⏳ Waiting for action server...\n",
      "✅ Connected to action server!\n"
     ]
    }
   ],
   "source": [
    "client = None\n",
    "odom_sub = None\n",
    "pos_vel_pub = None\n",
    "current_position = {'x': 0.0, 'y': 0.0}\n",
    "distance_to_obstacle = 0.0 \n",
    "regions_ = None\n",
    "reached_goals = []\n",
    "failed_goals = []\n",
    "global client, odom_sub, pos_vel_pub\n",
    "\n",
    "x_slider = widgets.FloatSlider(value=0, min=-9, max=9, step=0.5, description='X:')\n",
    "y_slider = widgets.FloatSlider(value=0, min=-9, max=9, step=0.5, description='Y:')\n",
    "send_button = widgets.Button(description='Send Goal', button_style='success')\n",
    "cancel_button = widgets.Button(description='Cancel Goal', button_style='danger')\n",
    "position_label = widgets.Label(value=\"Robot Position: (0.0, 0.0)\")\n",
    "obstacle_label = widgets.Label(value=\"Distance to nearest obstacle: N/A\")\n",
    "\n",
    "\n",
    "def clbk_odom(msg):\n",
    "    global current_position, pos_vel_pub\n",
    "    current_position['x'] = msg.pose.pose.position.x\n",
    "    current_position['y'] = msg.pose.pose.position.y\n",
    "\n",
    "    new_info = posit()\n",
    "    new_info.x = current_position['x']\n",
    "    new_info.y = current_position['y']\n",
    "    new_info.vel_x = msg.twist.twist.linear.x\n",
    "    new_info.vel_z = msg.twist.twist.angular.z\n",
    "    pos_vel_pub.publish(new_info)\n",
    "\n",
    "    position_label.value = f\"Robot Position: ({new_info.x:.2f}, {new_info.y:.2f})\"\n",
    "\n",
    "def feedback_cb(feedback):\n",
    "    if feedback.stat == \"Target reached!\":\n",
    "        print(\"Target reached!\")\n",
    "    elif feedback.stat == \"Target cancelled!\":\n",
    "        print(\"Goal cancelled!\")\n",
    "\n",
    "def send_goal_callback(b):\n",
    "    goal = PlanningGoal()\n",
    "    goal.target_pose.pose.position.x = x_slider.value\n",
    "    goal.target_pose.pose.position.y = y_slider.value\n",
    "    print(f\"Sending goal to ({goal.target_pose.pose.position.x}, {goal.target_pose.pose.position.y})\")\n",
    "    client.send_goal(goal, feedback_cb=feedback_cb)\n",
    "\n",
    "def cancel_goal_callback(b):\n",
    "    print(\"Cancelling goal...\")\n",
    "    client.cancel_goal()\n",
    "    \n",
    "def clbk_laser(msg):\n",
    "    global regions_\n",
    "    regions_ = {\n",
    "        'right':  min(min(msg.ranges[0:143]), 10),\n",
    "        'fright': min(min(msg.ranges[144:287]), 10),\n",
    "        'front':  min(min(msg.ranges[288:431]), 10),\n",
    "        'fleft':  min(min(msg.ranges[432:575]), 10),\n",
    "        'left':   min(min(msg.ranges[576:719]), 10),\n",
    "    }\n",
    "    min_dist, min_dist_dir = get_min_laser(regions_)\n",
    "    obstacle_label.value = f\"Distance to nearest obstacle is {min_dist:.2f} at {min_dist_dir}\"\n",
    "\n",
    "def argmin(lst):\n",
    "    if not lst:\n",
    "        return None, None\n",
    "    min_index = 0\n",
    "    min_value = lst[0]\n",
    "    for i in range(1, len(lst)):\n",
    "        if lst[i] < min_value:\n",
    "            min_value = lst[i]\n",
    "            min_index = i\n",
    "    return min_index, min_value\n",
    "\n",
    "def get_min_laser(laserdict):\n",
    "    min_index, min_value = argmin(list(laserdict.values()))\n",
    "    return min_value, list(laserdict.keys())[min_index]\n",
    "\n",
    "def feedback_cb(feedback):\n",
    "    if feedback.stat == \"Target reached!\":\n",
    "        print(\"Target reached!\")\n",
    "        reached_goals.append((current_position['x'], current_position['y']))\n",
    "    elif feedback.stat == \"Target cancelled!\":\n",
    "        print(\"Goal cancelled!\")\n",
    "        failed_goals.append((current_position['x'], current_position['y']))\n",
    "\n",
    "send_button.on_click(send_goal_callback)\n",
    "cancel_button.on_click(cancel_goal_callback)\n",
    "\n",
    "\n",
    "rospy.init_node('action_client', anonymous=True)\n",
    "client = actionlib.SimpleActionClient('/reaching_goal', PlanningAction)\n",
    "print(\"⏳ Waiting for action server...\")\n",
    "client.wait_for_server()\n",
    "print(\"✅ Connected to action server!\")\n",
    "\n",
    "odom_sub = rospy.Subscriber('/odom', Odometry, clbk_odom)\n",
    "pos_vel_pub = rospy.Publisher('/robot_pos_vel', posit, queue_size=10)\n",
    "sub_laser = rospy.Subscriber('/scan', LaserScan, clbk_laser)"
   ]
  },
  {
   "cell_type": "markdown",
   "id": "dfdadc2a",
   "metadata": {},
   "source": [
    "### Section 3: Visualizing Robot's Navigation and Goal Outcomes  \n",
    "This section creates a real-time visualization of the robot's navigation and goal outcomes. It includes two plots:  \n",
    "1. **Robot Position with Trail**: Displays the robot's current position, trail, reached goals, and failed goals in a 2D space.  \n",
    "2. **Goal Outcome Summary**: A pie chart summarizing the percentage of reached and failed goals.  \n",
    "\n",
    "The visualization updates dynamically using `matplotlib`'s `FuncAnimation`. Widgets are used to display the plots and interact with the robot's navigation system."
   ]
  },
  {
   "cell_type": "code",
   "execution_count": 3,
   "id": "dbca17e7",
   "metadata": {},
   "outputs": [
    {
     "data": {
      "application/vnd.jupyter.widget-view+json": {
       "model_id": "dfc7057a59164fbabd77381186a979cf",
       "version_major": 2,
       "version_minor": 0
      },
      "text/plain": [
       "Canvas(toolbar=Toolbar(toolitems=[('Home', 'Reset original view', 'home', 'home'), ('Back', 'Back to previous …"
      ]
     },
     "metadata": {},
     "output_type": "display_data"
    },
    {
     "data": {
      "application/vnd.jupyter.widget-view+json": {
       "model_id": "f1a98b35a5684f129d086c775ae925c4",
       "version_major": 2,
       "version_minor": 0
      },
      "text/plain": [
       "VBox(children=(FloatSlider(value=0.0, description='X:', max=9.0, min=-9.0, step=0.5), FloatSlider(value=0.0, d…"
      ]
     },
     "metadata": {},
     "output_type": "display_data"
    },
    {
     "name": "stdout",
     "output_type": "stream",
     "text": [
      "Sending goal to (-3.0, 0.0)\n",
      "Sending goal to (4.0, 0.0)\n",
      "Cancelling goal...\n",
      "Sending goal to (1.5, 0.0)\n",
      "Sending goal to (-3.5, 0.0)\n",
      "Sending goal to (-3.5, 0.0)\n",
      "Sending goal to (2.5, 0.0)\n"
     ]
    }
   ],
   "source": [
    "x_data = []\n",
    "y_data = []\n",
    "\n",
    "fig, (ax_trail, ax_summary) = plt.subplots(1, 2, figsize=(10, 5))\n",
    "sc = ax_trail.scatter([], [], c='red', s=100, label='Current Position')\n",
    "trail_line, = ax_trail.plot([], [], 'b--', linewidth=1, label='Trail')\n",
    "reached_scatter = ax_trail.scatter([], [], c='green', s=80, label='Reached Goal')\n",
    "failed_scatter = ax_trail.scatter([], [], c='red', marker='x', s=80, label='Failed Goal')\n",
    "ax_trail.set_xlim(-10, 10)\n",
    "ax_trail.set_ylim(-10, 10)\n",
    "ax_trail.set_title(\"Robot Position with Trail\")\n",
    "ax_trail.set_xlabel(\"X\")\n",
    "ax_trail.set_ylabel(\"Y\")\n",
    "ax_trail.legend(loc='upper right')\n",
    "\n",
    "def update_goal_plot():\n",
    "    ax_summary.clear()\n",
    "    reached = len(reached_goals)\n",
    "    failed = len(failed_goals)\n",
    "    ax_summary.pie(\n",
    "        [reached, failed],\n",
    "        labels=[\"Reached\", \"Failed\"],\n",
    "        colors=[\"green\", \"red\"],\n",
    "        autopct='%1.0f%%',\n",
    "        startangle=140\n",
    "    )\n",
    "    ax_summary.set_title(\"Goal Outcome Summary\")\n",
    "\n",
    "def update(frame):\n",
    "    x = current_position['x']\n",
    "    y = current_position['y']\n",
    "    x_data.append(x)\n",
    "    y_data.append(y)\n",
    "\n",
    "    if len(x_data) > 400:\n",
    "        x_data[:] = x_data[-400:]\n",
    "        y_data[:] = y_data[-400:]\n",
    "\n",
    "    trail_line.set_data(x_data, y_data)\n",
    "    sc.set_offsets([[x, y]])\n",
    "\n",
    "    if reached_goals:\n",
    "        xs, ys = zip(*reached_goals)\n",
    "        reached_scatter.set_offsets(list(zip(xs, ys)))\n",
    "    if failed_goals:\n",
    "        xs, ys = zip(*failed_goals)\n",
    "        failed_scatter.set_offsets(list(zip(xs, ys)))\n",
    "\n",
    "    update_goal_plot()\n",
    "\n",
    "    return trail_line, sc, reached_scatter, failed_scatter\n",
    "\n",
    "ani = FuncAnimation(fig, update, interval=200)\n",
    "\n",
    "plot_output = widgets.Output()\n",
    "with plot_output:\n",
    "    display(fig)\n",
    "\n",
    "full_ui = widgets.VBox([\n",
    "    x_slider,\n",
    "    y_slider,\n",
    "    widgets.HBox([send_button, cancel_button]),\n",
    "    position_label,\n",
    "    obstacle_label\n",
    "])\n",
    "\n",
    "display(full_ui)"
   ]
  },
  {
   "cell_type": "code",
   "execution_count": null,
   "id": "3d6ad9ed",
   "metadata": {},
   "outputs": [],
   "source": []
  }
 ],
 "metadata": {
  "kernelspec": {
   "display_name": "Python 3 (ipykernel)",
   "language": "python",
   "name": "python3"
  },
  "language_info": {
   "codemirror_mode": {
    "name": "ipython",
    "version": 3
   },
   "file_extension": ".py",
   "mimetype": "text/x-python",
   "name": "python",
   "nbconvert_exporter": "python",
   "pygments_lexer": "ipython3",
   "version": "3.8.5"
  }
 },
 "nbformat": 4,
 "nbformat_minor": 5
}
